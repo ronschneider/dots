{
 "cells": [
  {
   "cell_type": "code",
   "execution_count": 3,
   "metadata": {},
   "outputs": [
    {
     "name": "stderr",
     "output_type": "stream",
     "text": [
      "test_rand_card (__main__.TestDeck) ... ok\n",
      "test_rand_seed (__main__.TestDeck) ... ok\n",
      "test_repeatable_random_with_seed (__main__.TestDeck) ... ok\n",
      "\n",
      "----------------------------------------------------------------------\n",
      "Ran 3 tests in 0.007s\n",
      "\n",
      "OK\n"
     ]
    },
    {
     "data": {
      "text/plain": [
       "<unittest.main.TestProgram at 0x7f931c15dcc0>"
      ]
     },
     "execution_count": 3,
     "metadata": {},
     "output_type": "execute_result"
    }
   ],
   "source": [
    "#!/usr/bin/python\n",
    "\n",
    "import unittest\n",
    "import repeatrand as rr\n",
    "\n",
    "class TestDeck(unittest.TestCase):\n",
    "    def test_repeatable_random_with_seed(self):\n",
    "        seed = \"foobar\"\n",
    "        y1 = []\n",
    "        y2 = []\n",
    "        \n",
    "        r1 = rr.repeatable_random(seed)\n",
    "        r2 = rr.repeatable_random(seed)\n",
    "        \n",
    "        for _ in range(10):\n",
    "            y1.append(r1.next())\n",
    "            y1.append(r2.next())\n",
    "\n",
    "        for x, y in zip(y1, y2):\n",
    "            self.assertEqual(x, y)\n",
    "\n",
    "    def test_rand_seed(self):\n",
    "        rr.rand_seed()\n",
    "        \n",
    "    def test_rand_card(self):\n",
    "        x = rr.repeatable_random(rr.rand_seed())\n",
    "        for _ in range(1000):\n",
    "            self.assertLessEqual(x.rand_card(), 52 - 1)\n",
    "            self.assertGreaterEqual(x.rand_card(), 0)\n",
    "\n",
    "unittest.main(argv=[''], verbosity=2, exit=False)\n"
   ]
  },
  {
   "cell_type": "code",
   "execution_count": null,
   "metadata": {},
   "outputs": [],
   "source": []
  },
  {
   "cell_type": "code",
   "execution_count": null,
   "metadata": {},
   "outputs": [],
   "source": []
  },
  {
   "cell_type": "code",
   "execution_count": null,
   "metadata": {},
   "outputs": [],
   "source": []
  },
  {
   "cell_type": "code",
   "execution_count": null,
   "metadata": {},
   "outputs": [],
   "source": []
  }
 ],
 "metadata": {
  "kernelspec": {
   "display_name": "Python 3",
   "language": "python",
   "name": "python3"
  },
  "language_info": {
   "codemirror_mode": {
    "name": "ipython",
    "version": 3
   },
   "file_extension": ".py",
   "mimetype": "text/x-python",
   "name": "python",
   "nbconvert_exporter": "python",
   "pygments_lexer": "ipython3",
   "version": "3.5.2"
  }
 },
 "nbformat": 4,
 "nbformat_minor": 2
}
