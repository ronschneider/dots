{
 "cells": [
  {
   "cell_type": "code",
   "execution_count": 1,
   "metadata": {},
   "outputs": [
    {
     "name": "stderr",
     "output_type": "stream",
     "text": [
      "test_check_win_0 (__main__.TestBoard) ... ok\n",
      "test_final_score (__main__.TestBoard) ... ok\n",
      "test_init (__main__.TestBoard) ... ok\n",
      "\n",
      "----------------------------------------------------------------------\n",
      "Ran 3 tests in 0.003s\n",
      "\n",
      "OK\n",
      "test_check_win_0 (__main__.TestBoard) ... ok\n",
      "test_final_score (__main__.TestBoard) ... ok\n",
      "test_init (__main__.TestBoard) ... ok\n",
      "\n",
      "----------------------------------------------------------------------\n",
      "Ran 3 tests in 0.003s\n",
      "\n",
      "OK\n",
      "test_check_win_0 (__main__.TestBoard) ... ok\n",
      "test_final_score (__main__.TestBoard) ... ok\n",
      "test_init (__main__.TestBoard) ... "
     ]
    },
    {
     "name": "stdout",
     "output_type": "stream",
     "text": [
      "Greedy won 10 matches, Random won 0\n"
     ]
    },
    {
     "name": "stderr",
     "output_type": "stream",
     "text": [
      "ok\n",
      "\n",
      "----------------------------------------------------------------------\n",
      "Ran 3 tests in 0.002s\n",
      "\n",
      "OK\n"
     ]
    },
    {
     "data": {
      "text/plain": [
       "<unittest.main.TestProgram at 0x7fab44517a20>"
      ]
     },
     "execution_count": 1,
     "metadata": {},
     "output_type": "execute_result"
    }
   ],
   "source": [
    "%run dots_model.ipynb\n",
    "\n",
    "class TestBoard(unittest.TestCase):\n",
    "    def test_init(self):\n",
    "        b = Board()\n",
    "        self.assertEqual(sum(b.pip), 0)\n",
    "        self.assertEqual(b.check_win(1), False)\n",
    "        \n",
    "    def test_check_win_0(self):\n",
    "        b = Board()\n",
    "        self.assertEqual(b.move(WHITE, 0), False)\n",
    "        self.assertEqual(b.move(WHITE, 1), False)\n",
    "        self.assertEqual(b.move(WHITE, 3), False)\n",
    "        self.assertEqual(b.move(WHITE, BOARD_X * 2), True)\n",
    "    \n",
    "    def test_final_score(self):\n",
    "        b = Board()\n",
    "        b.mark_win(1*2, WHITE)\n",
    "        b.mark_win(2*2, WHITE)\n",
    "        b.mark_win(3*2, BLACK)\n",
    "        self.assertEqual(b.final_score(), (2,1))\n",
    "        \n",
    "unittest.main(argv=[''], verbosity=2, exit=False)"
   ]
  },
  {
   "cell_type": "code",
   "execution_count": 2,
   "metadata": {},
   "outputs": [
    {
     "name": "stderr",
     "output_type": "stream",
     "text": [
      "test_check_win_0 (__main__.TestBoard) ... ok\n",
      "test_final_score (__main__.TestBoard) ... ok\n",
      "test_init (__main__.TestBoard) ... ok\n",
      "\n",
      "----------------------------------------------------------------------\n",
      "Ran 3 tests in 0.002s\n",
      "\n",
      "OK\n"
     ]
    },
    {
     "data": {
      "text/plain": [
       "<unittest.main.TestProgram at 0x7fab4451cda0>"
      ]
     },
     "execution_count": 2,
     "metadata": {},
     "output_type": "execute_result"
    }
   ],
   "source": [
    "import unittest\n",
    "\n",
    "\n",
    "unittest.main(argv=[''], verbosity=2, exit=False)\n"
   ]
  }
 ],
 "metadata": {
  "kernelspec": {
   "display_name": "Python 3",
   "language": "python",
   "name": "python3"
  },
  "language_info": {
   "codemirror_mode": {
    "name": "ipython",
    "version": 3
   },
   "file_extension": ".py",
   "mimetype": "text/x-python",
   "name": "python",
   "nbconvert_exporter": "python",
   "pygments_lexer": "ipython3",
   "version": "3.5.2"
  }
 },
 "nbformat": 4,
 "nbformat_minor": 2
}
