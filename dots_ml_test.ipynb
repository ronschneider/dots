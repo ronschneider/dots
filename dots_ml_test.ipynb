{
 "cells": [
  {
   "cell_type": "code",
   "execution_count": 1,
   "metadata": {},
   "outputs": [
    {
     "name": "stdout",
     "output_type": "stream",
     "text": [
      "running\n",
      "creating model\n",
      "Random won 231 (46%) matches, QTest won 269 (54%)\n",
      "Random won 459 (46%) matches, QTest won 541 (54%)\n",
      "Random won 667 (44%) matches, QTest won 833 (56%)\n",
      "Random won 860 (43%) matches, QTest won 1140 (57%)\n",
      "Random won 1050 (42%) matches, QTest won 1450 (58%)\n",
      "Random won 1232 (41%) matches, QTest won 1768 (59%)\n",
      "Random won 1397 (40%) matches, QTest won 2103 (60%)\n",
      "Random won 1572 (39%) matches, QTest won 2428 (61%)\n",
      "Random won 1703 (38%) matches, QTest won 2797 (62%)\n",
      "Random won 1846 (37%) matches, QTest won 3154 (63%)\n",
      "Random won 1975 (36%) matches, QTest won 3525 (64%)\n",
      "Random won 2112 (35%) matches, QTest won 3888 (65%)\n",
      "Random won 2247 (35%) matches, QTest won 4253 (65%)\n",
      "Random won 2349 (34%) matches, QTest won 4651 (66%)\n",
      "Random won 2454 (33%) matches, QTest won 5046 (67%)\n",
      "Random won 2564 (32%) matches, QTest won 5436 (68%)\n",
      "Random won 2652 (31%) matches, QTest won 5848 (69%)\n",
      "Random won 2737 (30%) matches, QTest won 6263 (70%)\n",
      "Random won 2816 (30%) matches, QTest won 6684 (70%)\n",
      "Random won 2896 (29%) matches, QTest won 7104 (71%)\n",
      "Random won 2896 (29%) matches, QTest won 7104 (71%)\n",
      "QTest won 416 (83%) matches, Random won 84 (17%)\n",
      "QTest won 847 (85%) matches, Random won 153 (15%)\n",
      "QTest won 1280 (85%) matches, Random won 220 (15%)\n",
      "QTest won 1717 (86%) matches, Random won 283 (14%)\n",
      "QTest won 2127 (85%) matches, Random won 373 (15%)\n",
      "QTest won 2554 (85%) matches, Random won 446 (15%)\n",
      "QTest won 3001 (86%) matches, Random won 499 (14%)\n",
      "QTest won 3434 (86%) matches, Random won 566 (14%)\n",
      "QTest won 3869 (86%) matches, Random won 631 (14%)\n",
      "QTest won 4310 (86%) matches, Random won 690 (14%)\n",
      "QTest won 4748 (86%) matches, Random won 752 (14%)\n",
      "QTest won 5175 (86%) matches, Random won 825 (14%)\n",
      "QTest won 5619 (86%) matches, Random won 881 (14%)\n",
      "QTest won 6070 (87%) matches, Random won 930 (13%)\n",
      "QTest won 6542 (87%) matches, Random won 958 (13%)\n",
      "QTest won 6985 (87%) matches, Random won 1015 (13%)\n",
      "QTest won 7437 (87%) matches, Random won 1063 (13%)\n",
      "QTest won 7886 (88%) matches, Random won 1114 (12%)\n",
      "QTest won 8337 (88%) matches, Random won 1163 (12%)\n",
      "QTest won 8792 (88%) matches, Random won 1208 (12%)\n",
      "QTest won 8792 (88%) matches, Random won 1208 (12%)\n"
     ]
    },
    {
     "data": {
      "text/plain": [
       "<Figure size 640x480 with 1 Axes>"
      ]
     },
     "metadata": {},
     "output_type": "display_data"
    },
    {
     "name": "stdout",
     "output_type": "stream",
     "text": [
      "done\n"
     ]
    }
   ],
   "source": [
    "import matplotlib.pyplot as plt\n",
    "\n",
    "%run dots_ml_nnqplayer.ipynb\n",
    "%run dots_iter.ipynb\n",
    "\n",
    "NGAMES = 10000\n",
    "def test_qplayer(neural_player, opponent):\n",
    "    sess = TFSessionManager.get_session()\n",
    "    \n",
    "    sess.run(tf.global_variables_initializer())\n",
    "    \n",
    "    p1wins = []\n",
    "    p2wins = []\n",
    "    \n",
    "    Series(opponent, neural_player, 3, NGAMES).run([], p2wins)\n",
    "    x = range(1,len(p2wins))\n",
    "\n",
    "    Series(neural_player, opponent, 3, NGAMES).run(p1wins, [])\n",
    "    x = range(1,len(p2wins))\n",
    "    \n",
    "    p = plt.plot(x, p2wins[1:], 'b-')\n",
    "    p = plt.plot(x, p1wins[1:], 'r-')\n",
    "    plt.show()\n",
    "    \n",
    "tf.reset_default_graph()\n",
    "\n",
    "print(\"running\")\n",
    "nn = NNQPlayer(\"QTest\", WHITE)\n",
    "test_qplayer(nn, RandomPlayer(\"Random\", BLACK))\n",
    "print(\"done\")"
   ]
  },
  {
   "cell_type": "code",
   "execution_count": null,
   "metadata": {},
   "outputs": [],
   "source": []
  },
  {
   "cell_type": "code",
   "execution_count": null,
   "metadata": {},
   "outputs": [],
   "source": []
  }
 ],
 "metadata": {
  "kernelspec": {
   "display_name": "Python 3",
   "language": "python",
   "name": "python3"
  },
  "language_info": {
   "codemirror_mode": {
    "name": "ipython",
    "version": 3
   },
   "file_extension": ".py",
   "mimetype": "text/x-python",
   "name": "python",
   "nbconvert_exporter": "python",
   "pygments_lexer": "ipython3",
   "version": "3.5.2"
  }
 },
 "nbformat": 4,
 "nbformat_minor": 2
}
