{
 "cells": [
  {
   "cell_type": "code",
   "execution_count": null,
   "metadata": {},
   "outputs": [
    {
     "name": "stdout",
     "output_type": "stream",
     "text": [
      "running\n",
      "QTest won 0 matches, Greedy won 400\n",
      "QTest won 0 matches, Greedy won 800\n"
     ]
    }
   ],
   "source": [
    "import matplotlib.pyplot as plt\n",
    "\n",
    "%run dots_ml.ipynb\n",
    "\n",
    "def test_qplayer():\n",
    "    tf.reset_default_graph()\n",
    "\n",
    "    sess = TFSessionManager.get_session()\n",
    "    \n",
    "    qplayer = NNQPlayer(\"QTest\", 0.01)\n",
    "    sess.run(tf.global_variables_initializer())\n",
    "    \n",
    "    greedy = GreedyPlayer(\"Greedy\", WHITE)\n",
    "    random = RandomPlayer(\"Random\", WHITE)\n",
    "\n",
    "    p1wins = []\n",
    "    p2wins = []\n",
    "\n",
    "    Series(qplayer, greedy, 1, 10000).run(p1wins, p2wins)\n",
    "    x = range(len(p2wins))\n",
    "    \n",
    "    #p = plt.plot(x, p1wins, 'r-')\n",
    "    p = plt.plot(x, p2wins, 'b-')\n",
    "    plt.show()\n",
    "\n",
    "print(\"running\")\n",
    "test_qplayer()\n",
    "print(\"done\")\n",
    "\n"
   ]
  },
  {
   "cell_type": "code",
   "execution_count": null,
   "metadata": {},
   "outputs": [],
   "source": []
  }
 ],
 "metadata": {
  "kernelspec": {
   "display_name": "Python 3",
   "language": "python",
   "name": "python3"
  },
  "language_info": {
   "codemirror_mode": {
    "name": "ipython",
    "version": 3
   },
   "file_extension": ".py",
   "mimetype": "text/x-python",
   "name": "python",
   "nbconvert_exporter": "python",
   "pygments_lexer": "ipython3",
   "version": "3.5.2"
  }
 },
 "nbformat": 4,
 "nbformat_minor": 2
}
