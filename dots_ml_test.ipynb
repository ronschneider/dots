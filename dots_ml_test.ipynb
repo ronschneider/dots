{
 "cells": [
  {
   "cell_type": "code",
   "execution_count": 8,
   "metadata": {},
   "outputs": [
    {
     "name": "stdout",
     "output_type": "stream",
     "text": [
      "running\n",
      "creating model\n",
      "QTest won 184 (46%) matches, Random won 216 (54%)\n",
      "QTest won 387 (48%) matches, Random won 413 (52%)\n",
      "QTest won 603 (50%) matches, Random won 597 (50%)\n",
      "QTest won 849 (53%) matches, Random won 751 (47%)\n",
      "QTest won 1103 (55%) matches, Random won 897 (45%)\n",
      "QTest won 1370 (57%) matches, Random won 1030 (43%)\n",
      "QTest won 1637 (58%) matches, Random won 1163 (42%)\n",
      "QTest won 1898 (59%) matches, Random won 1302 (41%)\n",
      "QTest won 2171 (60%) matches, Random won 1429 (40%)\n",
      "QTest won 2459 (61%) matches, Random won 1541 (39%)\n",
      "QTest won 2748 (62%) matches, Random won 1652 (38%)\n",
      "QTest won 3054 (64%) matches, Random won 1746 (36%)\n",
      "QTest won 3347 (64%) matches, Random won 1853 (36%)\n",
      "QTest won 3647 (65%) matches, Random won 1953 (35%)\n",
      "QTest won 3972 (66%) matches, Random won 2028 (34%)\n",
      "QTest won 4306 (67%) matches, Random won 2094 (33%)\n",
      "QTest won 4622 (68%) matches, Random won 2178 (32%)\n",
      "QTest won 4952 (69%) matches, Random won 2248 (31%)\n",
      "QTest won 5286 (70%) matches, Random won 2314 (30%)\n",
      "QTest won 5611 (70%) matches, Random won 2389 (30%)\n",
      "QTest won 5929 (71%) matches, Random won 2471 (29%)\n",
      "QTest won 6256 (71%) matches, Random won 2544 (29%)\n",
      "QTest won 6601 (72%) matches, Random won 2599 (28%)\n",
      "QTest won 6934 (72%) matches, Random won 2666 (28%)\n",
      "QTest won 7284 (73%) matches, Random won 2716 (27%)\n",
      "QTest won 7284 (73%) matches, Random won 2716 (27%)\n"
     ]
    },
    {
     "data": {
      "image/png": "[encoded data removed]",
      "text/plain": [
       "<Figure size 432x288 with 1 Axes>"
      ]
     },
     "metadata": {
      "needs_background": "light"
     },
     "output_type": "display_data"
    },
    {
     "name": "stdout",
     "output_type": "stream",
     "text": [
      "Random won 103 (26%) matches, QTest won 297 (74%)\n",
      "Random won 219 (27%) matches, QTest won 581 (73%)\n",
      "Random won 328 (27%) matches, QTest won 872 (73%)\n",
      "Random won 437 (27%) matches, QTest won 1163 (73%)\n",
      "Random won 539 (27%) matches, QTest won 1461 (73%)\n",
      "Random won 633 (26%) matches, QTest won 1767 (74%)\n",
      "Random won 732 (26%) matches, QTest won 2068 (74%)\n",
      "Random won 804 (25%) matches, QTest won 2396 (75%)\n",
      "Random won 881 (24%) matches, QTest won 2719 (76%)\n",
      "Random won 956 (24%) matches, QTest won 3044 (76%)\n",
      "Random won 1005 (23%) matches, QTest won 3395 (77%)\n",
      "Random won 1056 (22%) matches, QTest won 3744 (78%)\n",
      "Random won 1114 (21%) matches, QTest won 4086 (79%)\n",
      "Random won 1162 (21%) matches, QTest won 4438 (79%)\n",
      "Random won 1214 (20%) matches, QTest won 4786 (80%)\n",
      "Random won 1266 (20%) matches, QTest won 5134 (80%)\n",
      "Random won 1314 (19%) matches, QTest won 5486 (81%)\n",
      "Random won 1364 (19%) matches, QTest won 5836 (81%)\n",
      "Random won 1416 (19%) matches, QTest won 6184 (81%)\n",
      "Random won 1463 (18%) matches, QTest won 6537 (82%)\n",
      "Random won 1493 (18%) matches, QTest won 6907 (82%)\n",
      "Random won 1534 (17%) matches, QTest won 7266 (83%)\n",
      "Random won 1570 (17%) matches, QTest won 7630 (83%)\n",
      "Random won 1609 (17%) matches, QTest won 7991 (83%)\n",
      "Random won 1643 (16%) matches, QTest won 8357 (84%)\n",
      "Random won 1643 (16%) matches, QTest won 8357 (84%)\n"
     ]
    },
    {
     "data": {
      "image/png": "[encoded data removed]",
      "text/plain": [
       "<Figure size 432x288 with 1 Axes>"
      ]
     },
     "metadata": {
      "needs_background": "light"
     },
     "output_type": "display_data"
    },
    {
     "name": "stdout",
     "output_type": "stream",
     "text": [
      "done\n"
     ]
    }
   ],
   "source": [
    "import matplotlib.pyplot as plt\n",
    "\n",
    "%run dots_ml_nnqplayer.ipynb\n",
    "%run dots_iter.ipynb\n",
    "\n",
    "def test_qplayer(neural_player, opponent):\n",
    "    sess = TFSessionManager.get_session()\n",
    "    \n",
    "    sess.run(tf.global_variables_initializer())\n",
    "    \n",
    "    p1wins = []\n",
    "    p2wins = []\n",
    "    Series(neural_player, opponent, 3, 10000).run(p1wins, p2wins)\n",
    "    x = range(len(p2wins))\n",
    "    p = plt.plot(x, p2wins, 'b-')\n",
    "    plt.show()\n",
    "\n",
    "    p1wins = []\n",
    "    p2wins = []\n",
    "    Series(opponent, neural_player, 3, 10000).run(p1wins, p2wins)\n",
    "    x = range(len(p2wins))\n",
    "    p = plt.plot(x, p2wins, 'b-')\n",
    "    plt.show()\n",
    "\n",
    "    \n",
    "tf.reset_default_graph()\n",
    "\n",
    "print(\"running\")\n",
    "nn = NNQPlayer(\"QTest\", WHITE)\n",
    "#build_and_save_model(nn)\n",
    "test_qplayer(nn, RandomPlayer(\"Random\", BLACK))\n",
    "print(\"done\")"
   ]
  },
  {
   "cell_type": "code",
   "execution_count": null,
   "metadata": {},
   "outputs": [],
   "source": []
  },
  {
   "cell_type": "code",
   "execution_count": null,
   "metadata": {},
   "outputs": [],
   "source": []
  }
 ],
 "metadata": {
  "kernelspec": {
   "display_name": "Python 3",
   "language": "python",
   "name": "python3"
  },
  "language_info": {
   "codemirror_mode": {
    "name": "ipython",
    "version": 3
   },
   "file_extension": ".py",
   "mimetype": "text/x-python",
   "name": "python",
   "nbconvert_exporter": "python",
   "pygments_lexer": "ipython3",
   "version": "3.5.2"
  }
 },
 "nbformat": 4,
 "nbformat_minor": 2
}
