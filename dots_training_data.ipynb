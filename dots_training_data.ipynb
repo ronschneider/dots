{
 "cells": [
  {
   "cell_type": "code",
   "execution_count": 1,
   "metadata": {},
   "outputs": [
    {
     "name": "stdout",
     "output_type": "stream",
     "text": [
      "Greedy won 10 matches, Random won 0\n"
     ]
    }
   ],
   "source": [
    "%run dots_model.ipynb\n",
    "\n",
    "def generateData(limit): \n",
    "    games = int(limit / BOARD_EDGES + 1) \n",
    "    count = 0\n",
    "\n",
    "    labels_dataset = []\n",
    "    features_dataset = []\n",
    "\n",
    "    random = RandomPlayer(\"Random\", WHITE)\n",
    "    greedy = GreedyPlayer(\"Greedy\", BLACK)\n",
    "\n",
    "    for _ in range(games):\n",
    "        g = Game(random, greedy)\n",
    "        b = g.board\n",
    "        \n",
    "        while (len(b.valid_moves) > 0):\n",
    "            move = greedy.select_move(b)\n",
    "\n",
    "            floats = [1.0 if x else 0.0 for x in b.b]\n",
    "            labels = [1.0 if x == move else 0.0 for x in range(BOARD_EDGES)]\n",
    "            features_dataset.append(floats)\n",
    "            labels_dataset.append(labels)\n",
    "\n",
    "            count = count + 1\n",
    "            move = random.select_move(b)\n",
    "            b.move(random.symbol, move)\n",
    "\n",
    "    return features_dataset[:limit], labels_dataset[:limit]"
   ]
  },
  {
   "cell_type": "code",
   "execution_count": null,
   "metadata": {},
   "outputs": [],
   "source": []
  },
  {
   "cell_type": "code",
   "execution_count": null,
   "metadata": {},
   "outputs": [],
   "source": []
  }
 ],
 "metadata": {
  "kernelspec": {
   "display_name": "Python 3",
   "language": "python",
   "name": "python3"
  },
  "language_info": {
   "codemirror_mode": {
    "name": "ipython",
    "version": 3
   },
   "file_extension": ".py",
   "mimetype": "text/x-python",
   "name": "python",
   "nbconvert_exporter": "python",
   "pygments_lexer": "ipython3",
   "version": "3.5.2"
  }
 },
 "nbformat": 4,
 "nbformat_minor": 2
}
