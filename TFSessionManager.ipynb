{
 "cells": [
  {
   "cell_type": "code",
   "execution_count": null,
   "metadata": {},
   "outputs": [],
   "source": [
    "class TFSessionManager:\n",
    "    \"\"\"\n",
    "    Class to manage the TensorFlow session for all NN based players.\n",
    "    Since it seems best to just have a single TensorFlow session which is shared by all\n",
    "    players, this class is used to manage that one sessions.\n",
    "    In order for this to work, all players need to be careful to put their graph into a unique name scope.\n",
    "    \"\"\"\n",
    "\n",
    "    session = None\n",
    "\n",
    "    @classmethod\n",
    "    def get_session(cls) -> tf.Session:\n",
    "        \"\"\"\n",
    "        Returns the one shared session between all players. If no session has been explicitly set, a new session\n",
    "        is created.\n",
    "        :return: The one shared session between all players.\n",
    "        \"\"\"\n",
    "        if TFSessionManager.session is None:\n",
    "            TFSessionManager.session = tf.Session()\n",
    "        return TFSessionManager.session\n",
    "\n",
    "    @classmethod\n",
    "    def set_session(cls, session: tf.Session):\n",
    "        \"\"\"\n",
    "        Explicitly sets the input parameter session as the one session to be shared by all instances.\n",
    "        If a session already was set previously and it is not identical with the new one, the old session\n",
    "        will be explicitly closed before setting the new one.\n",
    "        :param session:\n",
    "        :return:\n",
    "        \"\"\"\n",
    "        if TFSessionManager.session is not None and TFSessionManager.session != session:\n",
    "            TFSessionManager.session.close()\n",
    "\n",
    "        TFSessionManager.session = session\n",
    "\n"
   ]
  }
 ],
 "metadata": {
  "kernelspec": {
   "display_name": "Python 3",
   "language": "python",
   "name": "python3"
  },
  "language_info": {
   "codemirror_mode": {
    "name": "ipython",
    "version": 3
   },
   "file_extension": ".py",
   "mimetype": "text/x-python",
   "name": "python",
   "nbconvert_exporter": "python",
   "pygments_lexer": "ipython3",
   "version": "3.5.2"
  }
 },
 "nbformat": 4,
 "nbformat_minor": 2
}
